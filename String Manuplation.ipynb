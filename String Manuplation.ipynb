{
 "cells": [
  {
   "cell_type": "code",
   "execution_count": 1,
   "metadata": {
    "collapsed": true
   },
   "outputs": [],
   "source": [
    "from difflib import SequenceMatcher"
   ]
  },
  {
   "cell_type": "code",
   "execution_count": 3,
   "metadata": {
    "collapsed": true
   },
   "outputs": [],
   "source": [
    "def make_type_consistent(s1, s2):\n",
    "    \"\"\"If both objects aren't either both string or unicode instances force them to unicode\"\"\"\n",
    "    if isinstance(s1, str) and isinstance(s2, str):\n",
    "        return s1, s2\n",
    "\n",
    "    elif isinstance(s1, unicode) and isinstance(s2, unicode):\n",
    "        return s1, s2\n",
    "\n",
    "    else:\n",
    "        return unicode(s1), unicode(s2)"
   ]
  },
  {
   "cell_type": "code",
   "execution_count": 4,
   "metadata": {
    "collapsed": true
   },
   "outputs": [],
   "source": [
    "def intr(n):\n",
    "    '''Returns a correctly rounded integer'''\n",
    "    return int(round(n))"
   ]
  },
  {
   "cell_type": "code",
   "execution_count": 7,
   "metadata": {
    "collapsed": true
   },
   "outputs": [],
   "source": [
    "def ratio(s1, s2):\n",
    "    s1, s2 = make_type_consistent(s1, s2)\n",
    "    m = SequenceMatcher(None, s1, s2)\n",
    "    return intr(100 * m.ratio())"
   ]
  },
  {
   "cell_type": "code",
   "execution_count": 8,
   "metadata": {},
   "outputs": [
    {
     "data": {
      "text/plain": [
       "96"
      ]
     },
     "execution_count": 8,
     "metadata": {},
     "output_type": "execute_result"
    }
   ],
   "source": [
    "ratio(\"NEW YORK METS\", \"NEW YORK MEATS\")"
   ]
  },
  {
   "cell_type": "code",
   "execution_count": 25,
   "metadata": {
    "collapsed": true
   },
   "outputs": [],
   "source": [
    "def partial_ratio(s1, s2):\n",
    "    \"\"\"\"Return the ratio of the most similar substring\n",
    "    as a number between 0 and 100.\"\"\"\n",
    "    s1, s2 = make_type_consistent(s1, s2)\n",
    "\n",
    "    if len(s1) <= len(s2):\n",
    "        shorter = s1\n",
    "        longer = s2\n",
    "    else:\n",
    "        shorter = s2\n",
    "        longer = s1\n",
    "\n",
    "    m = SequenceMatcher(None, shorter, longer)\n",
    "    blocks = m.get_matching_blocks()\n",
    "\n",
    "    # each block represents a sequence of matching characters in a string\n",
    "    # of the form (idx_1, idx_2, len)\n",
    "    # the best partial match will block align with at least one of those blocks\n",
    "    #   e.g. shorter = \"abcd\", longer = XXXbcdeEEE\n",
    "    #   block = (1,3,3)\n",
    "    #   best score === ratio(\"abcd\", \"Xbcd\")\n",
    "    scores = []\n",
    "    for block in blocks:\n",
    "        long_start = block[1] - block[0] if (block[1] - block[0]) > 0 else 0\n",
    "        long_end = long_start + len(shorter)\n",
    "        long_substr = longer[long_start:long_end]\n",
    "\n",
    "        m2 = SequenceMatcher(None, shorter, long_substr)\n",
    "        r = m2.ratio()\n",
    "        #scores.append(r)\n",
    "        if r > .995:\n",
    "            return 100\n",
    "        else:\n",
    "           scores.append(r)\n",
    "\n",
    "    return utils.intr(100 * max(scores))\n",
    "    return scores"
   ]
  },
  {
   "cell_type": "code",
   "execution_count": 26,
   "metadata": {},
   "outputs": [
    {
     "data": {
      "text/plain": [
       "100"
      ]
     },
     "execution_count": 26,
     "metadata": {},
     "output_type": "execute_result"
    }
   ],
   "source": [
    "partial_ratio(\"NEW\", \"NEW YORK YANKEES\")"
   ]
  },
  {
   "cell_type": "code",
   "execution_count": 28,
   "metadata": {},
   "outputs": [],
   "source": [
    "import re\n",
    "import string\n",
    "import sys\n",
    "PY3 = sys.version_info[0] == 3\n",
    "if PY3:\n",
    "    string = str\n",
    "class StringProcessor(object):\n",
    "    \"\"\"\n",
    "    This class defines method to process strings in the most\n",
    "    efficient way. Ideally all the methods below use unicode strings\n",
    "    for both input and output.\n",
    "    \"\"\"\n",
    "\n",
    "    regex = re.compile(r\"(?ui)\\W\")\n",
    "\n",
    "    @classmethod\n",
    "    def replace_non_letters_non_numbers_with_whitespace(cls, a_string):\n",
    "        \"\"\"\n",
    "        This function replaces any sequence of non letters and non\n",
    "        numbers with a single white space.\n",
    "        \"\"\"\n",
    "        return cls.regex.sub(\" \", a_string)\n",
    "\n",
    "    strip = staticmethod(string.strip)\n",
    "    to_lower_case = staticmethod(string.lower)\n",
    "    to_upper_case = staticmethod(string.upper)"
   ]
  },
  {
   "cell_type": "code",
   "execution_count": 29,
   "metadata": {
    "collapsed": true
   },
   "outputs": [],
   "source": [
    "def full_process(s, force_ascii=False):\n",
    "    \"\"\"Process string by\n",
    "        -- removing all but letters and numbers\n",
    "        -- trim whitespace\n",
    "        -- force to lower case\n",
    "        if force_ascii == True, force convert to ascii\"\"\"\n",
    "\n",
    "    if s is None:\n",
    "        return \"\"\n",
    "\n",
    "    if force_ascii:\n",
    "        s = asciidammit(s)\n",
    "    # Keep only Letters and Numbers (see Unicode docs).\n",
    "    string_out = StringProcessor.replace_non_letters_non_numbers_with_whitespace(s)\n",
    "    # Force into lowercase.\n",
    "    string_out = StringProcessor.to_lower_case(string_out)\n",
    "    # Remove leading and trailing whitespaces.\n",
    "    string_out = StringProcessor.strip(string_out)\n",
    "    return string_out"
   ]
  },
  {
   "cell_type": "code",
   "execution_count": 30,
   "metadata": {
    "collapsed": true
   },
   "outputs": [],
   "source": [
    "def _process_and_sort(s, force_ascii, full_process=True):\n",
    "    \"\"\"Return a cleaned string with token sorted.\"\"\"\n",
    "    # pull tokens\n",
    "    ts = full_process(s, force_ascii=force_ascii) if full_process else s\n",
    "    tokens = ts.split()\n",
    "\n",
    "    # sort tokens and join\n",
    "    sorted_string = u\" \".join(sorted(tokens))\n",
    "    return sorted_string.strip()"
   ]
  },
  {
   "cell_type": "code",
   "execution_count": 31,
   "metadata": {
    "collapsed": true
   },
   "outputs": [],
   "source": [
    "def _token_sort(s1, s2, partial=True, force_ascii=True, full_process=True):\n",
    "    sorted1 = _process_and_sort(s1, force_ascii, full_process=full_process)\n",
    "    sorted2 = _process_and_sort(s2, force_ascii, full_process=full_process)\n",
    "\n",
    "    if partial:\n",
    "        return partial_ratio(sorted1, sorted2)\n",
    "    else:\n",
    "        return ratio(sorted1, sorted2)"
   ]
  },
  {
   "cell_type": "code",
   "execution_count": 33,
   "metadata": {
    "collapsed": true
   },
   "outputs": [],
   "source": [
    "def token_sort_ratio(s1, s2, force_ascii=True, full_process=True):\n",
    "    \"\"\"Return a measure of the sequences' similarity between 0 and 100\n",
    "    but sorting the token before comparing.\n",
    "    \"\"\"\n",
    "    return _token_sort(s1, s2, partial=False, force_ascii=force_ascii, full_process=full_process)"
   ]
  },
  {
   "cell_type": "code",
   "execution_count": 34,
   "metadata": {},
   "outputs": [
    {
     "ename": "TypeError",
     "evalue": "'bool' object is not callable",
     "output_type": "error",
     "traceback": [
      "\u001b[1;31m---------------------------------------------------------------------------\u001b[0m",
      "\u001b[1;31mTypeError\u001b[0m                                 Traceback (most recent call last)",
      "\u001b[1;32m<ipython-input-34-dd6ed636ba28>\u001b[0m in \u001b[0;36m<module>\u001b[1;34m()\u001b[0m\n\u001b[1;32m----> 1\u001b[1;33m \u001b[0mtoken_sort_ratio\u001b[0m\u001b[1;33m(\u001b[0m\u001b[1;34m\"New York Mets vs Atlanta Braves\"\u001b[0m\u001b[1;33m,\u001b[0m \u001b[1;34m\"Atlanta Braves vs New York Mets\"\u001b[0m\u001b[1;33m)\u001b[0m\u001b[1;33m\u001b[0m\u001b[0m\n\u001b[0m",
      "\u001b[1;32m<ipython-input-33-f6ccec982516>\u001b[0m in \u001b[0;36mtoken_sort_ratio\u001b[1;34m(s1, s2, force_ascii, full_process)\u001b[0m\n\u001b[0;32m      3\u001b[0m     \u001b[0mbut\u001b[0m \u001b[0msorting\u001b[0m \u001b[0mthe\u001b[0m \u001b[0mtoken\u001b[0m \u001b[0mbefore\u001b[0m \u001b[0mcomparing\u001b[0m\u001b[1;33m.\u001b[0m\u001b[1;33m\u001b[0m\u001b[0m\n\u001b[0;32m      4\u001b[0m     \"\"\"\n\u001b[1;32m----> 5\u001b[1;33m     \u001b[1;32mreturn\u001b[0m \u001b[0m_token_sort\u001b[0m\u001b[1;33m(\u001b[0m\u001b[0ms1\u001b[0m\u001b[1;33m,\u001b[0m \u001b[0ms2\u001b[0m\u001b[1;33m,\u001b[0m \u001b[0mpartial\u001b[0m\u001b[1;33m=\u001b[0m\u001b[1;32mFalse\u001b[0m\u001b[1;33m,\u001b[0m \u001b[0mforce_ascii\u001b[0m\u001b[1;33m=\u001b[0m\u001b[0mforce_ascii\u001b[0m\u001b[1;33m,\u001b[0m \u001b[0mfull_process\u001b[0m\u001b[1;33m=\u001b[0m\u001b[0mfull_process\u001b[0m\u001b[1;33m)\u001b[0m\u001b[1;33m\u001b[0m\u001b[0m\n\u001b[0m",
      "\u001b[1;32m<ipython-input-31-1e2f4e991891>\u001b[0m in \u001b[0;36m_token_sort\u001b[1;34m(s1, s2, partial, force_ascii, full_process)\u001b[0m\n\u001b[0;32m      1\u001b[0m \u001b[1;32mdef\u001b[0m \u001b[0m_token_sort\u001b[0m\u001b[1;33m(\u001b[0m\u001b[0ms1\u001b[0m\u001b[1;33m,\u001b[0m \u001b[0ms2\u001b[0m\u001b[1;33m,\u001b[0m \u001b[0mpartial\u001b[0m\u001b[1;33m=\u001b[0m\u001b[1;32mTrue\u001b[0m\u001b[1;33m,\u001b[0m \u001b[0mforce_ascii\u001b[0m\u001b[1;33m=\u001b[0m\u001b[1;32mTrue\u001b[0m\u001b[1;33m,\u001b[0m \u001b[0mfull_process\u001b[0m\u001b[1;33m=\u001b[0m\u001b[1;32mTrue\u001b[0m\u001b[1;33m)\u001b[0m\u001b[1;33m:\u001b[0m\u001b[1;33m\u001b[0m\u001b[0m\n\u001b[1;32m----> 2\u001b[1;33m     \u001b[0msorted1\u001b[0m \u001b[1;33m=\u001b[0m \u001b[0m_process_and_sort\u001b[0m\u001b[1;33m(\u001b[0m\u001b[0ms1\u001b[0m\u001b[1;33m,\u001b[0m \u001b[0mforce_ascii\u001b[0m\u001b[1;33m,\u001b[0m \u001b[0mfull_process\u001b[0m\u001b[1;33m=\u001b[0m\u001b[0mfull_process\u001b[0m\u001b[1;33m)\u001b[0m\u001b[1;33m\u001b[0m\u001b[0m\n\u001b[0m\u001b[0;32m      3\u001b[0m     \u001b[0msorted2\u001b[0m \u001b[1;33m=\u001b[0m \u001b[0m_process_and_sort\u001b[0m\u001b[1;33m(\u001b[0m\u001b[0ms2\u001b[0m\u001b[1;33m,\u001b[0m \u001b[0mforce_ascii\u001b[0m\u001b[1;33m,\u001b[0m \u001b[0mfull_process\u001b[0m\u001b[1;33m=\u001b[0m\u001b[0mfull_process\u001b[0m\u001b[1;33m)\u001b[0m\u001b[1;33m\u001b[0m\u001b[0m\n\u001b[0;32m      4\u001b[0m \u001b[1;33m\u001b[0m\u001b[0m\n\u001b[0;32m      5\u001b[0m     \u001b[1;32mif\u001b[0m \u001b[0mpartial\u001b[0m\u001b[1;33m:\u001b[0m\u001b[1;33m\u001b[0m\u001b[0m\n",
      "\u001b[1;32m<ipython-input-30-10dd1b0c8ce1>\u001b[0m in \u001b[0;36m_process_and_sort\u001b[1;34m(s, force_ascii, full_process)\u001b[0m\n\u001b[0;32m      2\u001b[0m     \u001b[1;34m\"\"\"Return a cleaned string with token sorted.\"\"\"\u001b[0m\u001b[1;33m\u001b[0m\u001b[0m\n\u001b[0;32m      3\u001b[0m     \u001b[1;31m# pull tokens\u001b[0m\u001b[1;33m\u001b[0m\u001b[1;33m\u001b[0m\u001b[0m\n\u001b[1;32m----> 4\u001b[1;33m     \u001b[0mts\u001b[0m \u001b[1;33m=\u001b[0m \u001b[0mfull_process\u001b[0m\u001b[1;33m(\u001b[0m\u001b[0ms\u001b[0m\u001b[1;33m,\u001b[0m \u001b[0mforce_ascii\u001b[0m\u001b[1;33m=\u001b[0m\u001b[0mforce_ascii\u001b[0m\u001b[1;33m)\u001b[0m \u001b[1;32mif\u001b[0m \u001b[0mfull_process\u001b[0m \u001b[1;32melse\u001b[0m \u001b[0ms\u001b[0m\u001b[1;33m\u001b[0m\u001b[0m\n\u001b[0m\u001b[0;32m      5\u001b[0m     \u001b[0mtokens\u001b[0m \u001b[1;33m=\u001b[0m \u001b[0mts\u001b[0m\u001b[1;33m.\u001b[0m\u001b[0msplit\u001b[0m\u001b[1;33m(\u001b[0m\u001b[1;33m)\u001b[0m\u001b[1;33m\u001b[0m\u001b[0m\n\u001b[0;32m      6\u001b[0m \u001b[1;33m\u001b[0m\u001b[0m\n",
      "\u001b[1;31mTypeError\u001b[0m: 'bool' object is not callable"
     ]
    }
   ],
   "source": [
    "token_sort_ratio(\"New York Mets vs Atlanta Braves\", \"Atlanta Braves vs New York Mets\")"
   ]
  },
  {
   "cell_type": "code",
   "execution_count": null,
   "metadata": {
    "collapsed": true
   },
   "outputs": [],
   "source": []
  }
 ],
 "metadata": {
  "kernelspec": {
   "display_name": "Python 3",
   "language": "python",
   "name": "python3"
  },
  "language_info": {
   "codemirror_mode": {
    "name": "ipython",
    "version": 3
   },
   "file_extension": ".py",
   "mimetype": "text/x-python",
   "name": "python",
   "nbconvert_exporter": "python",
   "pygments_lexer": "ipython3",
   "version": "3.6.1"
  }
 },
 "nbformat": 4,
 "nbformat_minor": 2
}
